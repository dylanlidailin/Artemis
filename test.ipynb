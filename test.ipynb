{
 "cells": [
  {
   "cell_type": "code",
   "execution_count": 2,
   "id": "8832d3e8",
   "metadata": {},
   "outputs": [],
   "source": [
    "import os\n",
    "from openai import OpenAI, APIConnectionError, AuthenticationError, RateLimitError, APIStatusError\n",
    "\n",
    "# 从环境变量获取 API Key\n",
    "api_key = os.getenv(\"OPENAI_API_KEY\")"
   ]
  },
  {
   "cell_type": "markdown",
   "id": "1578216c",
   "metadata": {},
   "source": []
  },
  {
   "cell_type": "code",
   "execution_count": 5,
   "id": "1c5a14f9",
   "metadata": {},
   "outputs": [
    {
     "name": "stdout",
     "output_type": "stream",
     "text": [
      "正在尝试连接 OpenAI API...\n",
      "\n",
      "--- API 请求成功！---\n",
      "模型回复: Steph Curry's wife is Ayesha Curry.\n",
      "Usage: CompletionUsage(completion_tokens=11, prompt_tokens=14, total_tokens=25, completion_tokens_details=CompletionTokensDetails(accepted_prediction_tokens=0, audio_tokens=0, reasoning_tokens=0, rejected_prediction_tokens=0), prompt_tokens_details=PromptTokensDetails(audio_tokens=0, cached_tokens=0))\n"
     ]
    }
   ],
   "source": [
    "import os\n",
    "from openai import OpenAI, APIConnectionError, AuthenticationError, RateLimitError, APIStatusError\n",
    "\n",
    "# 从环境变量获取 API Key\n",
    "api_key = os.getenv(\"OPENAI_API_KEY\")\n",
    "\n",
    "if not api_key:\n",
    "    print(\"错误：请设置 OPENAI_API_KEY 环境变量。\")\n",
    "    exit()\n",
    "\n",
    "client = OpenAI(api_key=api_key)\n",
    "\n",
    "def test_openai_api():\n",
    "    print(\"正在尝试连接 OpenAI API...\")\n",
    "    try:\n",
    "        # 使用一个您有权限访问的模型，例如 \"gpt-3.5-turbo\" 或 \"gpt-4\"\n",
    "        response = client.chat.completions.create(\n",
    "            model=\"gpt-3.5-turbo\", # 您可以替换为 \"gpt-4\" 或其他模型\n",
    "            messages=[\n",
    "                {\"role\": \"user\", \"content\": \"Who's Steph Curry's wife?\"}\n",
    "            ],\n",
    "            max_tokens=20,\n",
    "            timeout=10.0 # 设置一个超时时间，防止长时间等待\n",
    "        )\n",
    "\n",
    "        # 如果成功，打印模型的回复\n",
    "        print(\"\\n--- API 请求成功！---\")\n",
    "        print(f\"模型回复: {response.choices[0].message.content}\")\n",
    "        print(f\"Usage: {response.usage}\")\n",
    "\n",
    "    except AuthenticationError:\n",
    "        print(\"\\n--- 认证失败 ---\")\n",
    "        print(\"错误：API Key 无效或过期。请检查您的 OPENAI_API_KEY。\")\n",
    "    except APIConnectionError as e:\n",
    "        print(\"\\n--- 连接错误 ---\")\n",
    "        print(f\"错误：无法连接到 OpenAI API。请检查您的网络连接或 API 端点。详细信息: {e}\")\n",
    "    except RateLimitError:\n",
    "        print(\"\\n--- 速率限制错误 ---\")\n",
    "        print(\"错误：您已超出 OpenAI API 的速率限制。请稍后重试或检查您的配额。\")\n",
    "    except APIStatusError as e:\n",
    "        print(\"\\n--- API 状态错误 ---\")\n",
    "        print(f\"错误：OpenAI API 返回非 2xx 状态码。状态码: {e.status_code}, 消息: {e.response}\")\n",
    "    except Exception as e:\n",
    "        print(\"\\n--- 发生未知错误 ---\")\n",
    "        print(f\"错误：{e}\")\n",
    "\n",
    "if __name__ == \"__main__\":\n",
    "    test_openai_api()"
   ]
  }
 ],
 "metadata": {
  "kernelspec": {
   "display_name": ".venv",
   "language": "python",
   "name": "python3"
  },
  "language_info": {
   "codemirror_mode": {
    "name": "ipython",
    "version": 3
   },
   "file_extension": ".py",
   "mimetype": "text/x-python",
   "name": "python",
   "nbconvert_exporter": "python",
   "pygments_lexer": "ipython3",
   "version": "3.13.3"
  }
 },
 "nbformat": 4,
 "nbformat_minor": 5
}
